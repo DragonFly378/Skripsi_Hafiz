{
 "cells": [
  {
   "cell_type": "code",
   "execution_count": 21,
   "metadata": {},
   "outputs": [
    {
     "name": "stdout",
     "output_type": "stream",
     "text": [
      "70 0\n",
      "data gambar:  (10, 7, 3)\n",
      "mask:  [[0 0 0 0 0 0 0]\n",
      " [0 0 0 0 0 0 0]\n",
      " [0 0 0 0 0 0 0]\n",
      " [0 0 1 1 1 1 0]\n",
      " [0 0 1 1 1 1 0]\n",
      " [0 0 1 1 1 1 0]\n",
      " [0 0 1 1 1 1 0]\n",
      " [0 0 1 1 1 1 0]\n",
      " [0 0 0 0 0 0 0]\n",
      " [0 0 0 0 0 0 0]]\n"
     ]
    }
   ],
   "source": [
    "import sys\n",
    "import numpy as np\n",
    "from GMM import GaussianMixtureModels\n",
    "\n",
    "\n",
    "F_BG = 0\n",
    "F_FG = 1\n",
    "F_PR_BG = 2\n",
    "F_PR_FG = 3\n",
    "\n",
    "gambar = np.array(\n",
    "[\n",
    "    [[159, 192, 201], [160, 193, 202], [162, 197, 207], [167, 203, 213], [166, 204, 216], [159, 198, 212], [158, 195, 199]],\n",
    "    [[159, 192, 201], [156, 192, 200], [159, 194, 204], [163, 201, 213], [162, 201, 215], [152, 193, 208], [135, 177, 190]],\n",
    "    [[156, 189, 198], [149, 185, 193], [150, 185, 195], [155, 193, 205], [157, 196, 210], [150, 191, 206], [142, 182, 187]],\n",
    "    [[163, 197, 203], [152, 188, 196], [149, 184, 194], [153, 189, 199], [152, 192, 204], [146, 188, 201], [151, 189, 194]],\n",
    "    [[150, 187, 191], [158, 195, 199], [160, 196, 202], [151, 189, 194], [145, 182, 190], [143, 182, 191], [145, 184, 198]],\n",
    "    [[154, 191, 195], [158, 195, 199], [158, 195, 199], [150, 188, 192], [146, 184, 189], [150, 187, 195], [159, 194, 204]],\n",
    "    [[151, 189, 194], [152, 190, 195], [149, 187, 192], [142, 182, 187], [142, 181, 189], [147, 186, 194], [132, 171, 186]],\n",
    "    [[150, 187, 195], [146, 185, 193], [143, 182, 190], [141, 180, 188], [143, 182, 190], [147, 186, 195], [144, 185, 194]],\n",
    "    [[150, 189, 198], [146, 187, 196], [144, 185, 194], [146, 187, 196], [148, 189, 198], [148, 188, 200], [152, 193, 208]],\n",
    "    [[141, 180, 194], [140, 180, 192], [141, 180, 194], [145, 185, 197], [145, 184, 198], [142, 182, 194], [153, 189, 199]]\n",
    "]\n",
    ")\n",
    "\n",
    "rows, cols, _= gambar.shape\n",
    "komponen_piksel = np.zeros((rows,cols), dtype=np.uint32)\n",
    "mask = np.zeros(gambar.shape[:2], dtype=np.uint8)\n",
    "# gc = GrabCut(gambar, mask)\n",
    "# ix, iy, x, y = 176, 47, 351, 189\n",
    "mask[3:8, 2:6] = 1\n",
    "\n",
    "gc_source = 0\n",
    "gc_sink = (cols * rows)\n",
    "\n",
    "print(gc_sink, gc_source)\n",
    "print('data gambar: ', gambar.shape)\n",
    "print('mask: ', mask)"
   ]
  },
  {
   "cell_type": "code",
   "execution_count": 27,
   "metadata": {},
   "outputs": [
    {
     "name": "stdout",
     "output_type": "stream",
     "text": [
      "0\n",
      "50\n",
      "20\n",
      "[(0, 0), (0, 1), (0, 2), (0, 3), (0, 4), (0, 5), (0, 6), (0, 7), (0, 8), (0, 9), (0, 10), (0, 11), (0, 12), (0, 13), (0, 14), (0, 15), (0, 16), (0, 17), (0, 18), (0, 19), (0, 20), (0, 21), (0, 22), (0, 27), (0, 28), (0, 29), (0, 34), (0, 35), (0, 36), (0, 41), (0, 42), (0, 43), (0, 48), (0, 49), (0, 50), (0, 55), (0, 56), (0, 57), (0, 58), (0, 59), (0, 60), (0, 61), (0, 62), (0, 63), (0, 64), (0, 65), (0, 66), (0, 67), (0, 68), (0, 69), (0, 23), (0, 24), (0, 25), (0, 26), (0, 30), (0, 31), (0, 32), (0, 33), (0, 37), (0, 38), (0, 39), (0, 40), (0, 44), (0, 45), (0, 46), (0, 47), (0, 51), (0, 52), (0, 53), (0, 54)]\n",
      "[(0, 0), (0, 1), (0, 2), (0, 3), (0, 4), (0, 5), (0, 6), (0, 7), (0, 8), (0, 9), (0, 10), (0, 11), (0, 12), (0, 13), (0, 14), (0, 15), (0, 16), (0, 17), (0, 18), (0, 19), (0, 20), (0, 21), (0, 22), (0, 27), (0, 28), (0, 29), (0, 34), (0, 35), (0, 36), (0, 41), (0, 42), (0, 43), (0, 48), (0, 49), (0, 50), (0, 55), (0, 56), (0, 57), (0, 58), (0, 59), (0, 60), (0, 61), (0, 62), (0, 63), (0, 64), (0, 65), (0, 66), (0, 67), (0, 68), (0, 69), (0, 23), (0, 24), (0, 25), (0, 26), (0, 30), (0, 31), (0, 32), (0, 33), (0, 37), (0, 38), (0, 39), (0, 40), (0, 44), (0, 45), (0, 46), (0, 47), (0, 51), (0, 52), (0, 53), (0, 54)]\n"
     ]
    }
   ],
   "source": [
    "pr_indexes = np.where(np.logical_or(mask.reshape(-1) == F_PR_BG, mask.reshape(-1) == F_PR_FG))\n",
    "bgd_indexes = np.where(mask.reshape(-1) == F_BG)\n",
    "fgd_indexes = np.where(mask.reshape(-1) == F_FG)\n",
    "\n",
    "print(pr_indexes[0].size)\n",
    "print(bgd_indexes[0].size)\n",
    "print(fgd_indexes[0].size)\n",
    "\n",
    "edges = []\n",
    "edges2 = []\n",
    "\n",
    "edges.extend(list(zip([gc_source] * pr_indexes[0].size, pr_indexes[0])))\n",
    "edges.extend(list(zip([gc_source] * bgd_indexes[0].size, bgd_indexes[0])))\n",
    "edges.extend(list(zip([gc_source] * fgd_indexes[0].size, fgd_indexes[0])))\n",
    "\n",
    "edges2.extend(list(zip([gc_source] * pr_indexes[0].size, pr_indexes[0])))\n",
    "edges2.extend(list(zip([gc_source] * bgd_indexes[0].size, bgd_indexes[0])))\n",
    "edges2.extend(list(zip([gc_source] * fgd_indexes[0].size, fgd_indexes[0])))\n",
    "\n",
    "print(edges)\n",
    "print(edges2)\n",
    "\n",
    "# print(gambar.reshape(-1,3))\n"
   ]
  },
  {
   "cell_type": "code",
   "execution_count": null,
   "metadata": {},
   "outputs": [],
   "source": [
    "def inisiasi_piksel():\n",
    "    s_x, s_y, x, y = 1, 3, 5, 8\n",
    "    mask[s_y:y, s_x:x] = F_PR_FG\n",
    "    print(gambar.shape)\n",
    "    print(mask)\n",
    "\n",
    "    bg_idx = np.where(np.logical_or(\n",
    "        mask == F_BG, mask == F_PR_BG\n",
    "    ))\n",
    "\n",
    "    fg_idx = np.where(np.logical_or(\n",
    "        mask == F_FG, mask == F_PR_FG\n",
    "    ))\n",
    "    \n",
    "    # print('(pr_)bgd count: \\n', bg_idx, '\\n(pr_)fgd count: \\n', fg_idx)\n",
    "    print('(pr_)bgd count: ', bg_idx[1].size, '(pr_)fgd count:', fg_idx[1].size)\n",
    "\n",
    "    print('inisiasi piksel selesai')\n",
    "\n",
    "    return(bg_idx, fg_idx)\n",
    "\n",
    "\n",
    "idx_bg, idx_fg = inisiasi_piksel()\n"
   ]
  },
  {
   "cell_type": "code",
   "execution_count": null,
   "metadata": {},
   "outputs": [],
   "source": [
    "print(idx_fg)\n",
    "\n",
    "def init_assign_gmm():\n",
    "    gmm_fg = GaussianMixtureModels(gambar[idx_fg])\n",
    "    gmm_bg = GaussianMixtureModels(gambar[idx_bg])\n",
    "\n",
    "    komponen_piksel[idx_fg] = gmm_fg.assign_component(gambar[idx_fg])\n",
    "    komponen_piksel[idx_bg] = gmm_bg.assign_component(gambar[idx_bg])\n",
    "\n",
    "    # gmm_bg = GaussianMixtureModels(gambar[idx_bg])\n",
    "    print('Komponen piksel FG: %d, Komponen piksel BG: %d, Total komponen: %d' % (len(komponen_piksel[idx_fg]), len(komponen_piksel[idx_bg]), len(komponen_piksel)))\n",
    "    print('inisiasi GMM selesai')\n",
    "\n",
    "init_assign_gmm()"
   ]
  },
  {
   "cell_type": "code",
   "execution_count": null,
   "metadata": {},
   "outputs": [],
   "source": [
    "import numpy as np\n",
    "\n",
    "# Assuming arr is your 3D array with shape (m, n, p)\n",
    "# Create a sample 3D array for demonstration\n",
    "# arr = np.random.rand(3, 4)\n",
    "a = np.array([[1,2,3,4], [1,2,3,4], [1,2,3,4]]) \n",
    "\n",
    "# Sum along the second axis (axis=1) to add every column\n",
    "result = np.sum(a, axis=1)\n",
    "\n",
    "# Print the shapes before and after the sum\n",
    "print(\"Original array shape:\", a.shape)\n",
    "print(\"Result array shape:\", result)\n"
   ]
  },
  {
   "cell_type": "code",
   "execution_count": 4,
   "metadata": {},
   "outputs": [
    {
     "name": "stdout",
     "output_type": "stream",
     "text": [
      "[-2.30258509 -2.89037176 -3.33220451]\n",
      "[-2.30258509 -2.89037176 -3.33220451]\n"
     ]
    }
   ],
   "source": [
    "import numpy as np\n",
    "\n",
    "a = np.array([2.0, 3.0, 4.0])\n",
    "b = np.array([5.0, 6.0, 7.0])\n",
    "\n",
    "result = -np.log(a) - np.log(b)\n",
    "result1 = -np.log(np.multiply(a, b))\n",
    "\n",
    "print(result)\n",
    "print(result1)\n"
   ]
  },
  {
   "cell_type": "code",
   "execution_count": 26,
   "metadata": {},
   "outputs": [
    {
     "name": "stdout",
     "output_type": "stream",
     "text": [
      "[34, 34, 34, 34, 34, 34, 34, 34, 34, 34, 34, 34, 34, 34, 34, 34, 34, 34, 34, 34, 34, 34, 34, 34, 34, 34, 34, 34, 34, 34, 34, 34, 34, 34, 34, 34, 34, 34, 34, 34, 34, 34, 34]\n"
     ]
    }
   ],
   "source": [
    "c = [34] * 43\n",
    "\n",
    "print(c)"
   ]
  }
 ],
 "metadata": {
  "kernelspec": {
   "display_name": "Python 3",
   "language": "python",
   "name": "python3"
  },
  "language_info": {
   "codemirror_mode": {
    "name": "ipython",
    "version": 3
   },
   "file_extension": ".py",
   "mimetype": "text/x-python",
   "name": "python",
   "nbconvert_exporter": "python",
   "pygments_lexer": "ipython3",
   "version": "3.9.6"
  },
  "orig_nbformat": 4
 },
 "nbformat": 4,
 "nbformat_minor": 2
}
