{
 "cells": [
  {
   "cell_type": "code",
   "execution_count": 57,
   "metadata": {},
   "outputs": [
    {
     "name": "stdout",
     "output_type": "stream",
     "text": [
      "35 0\n",
      "data gambar:  (7, 5, 3)\n",
      "mask: \n",
      " [[0 0 0 0 0]\n",
      " [0 0 0 0 0]\n",
      " [0 3 3 3 0]\n",
      " [0 3 3 3 0]\n",
      " [0 3 3 3 0]\n",
      " [0 3 3 3 0]\n",
      " [0 0 0 0 0]]\n"
     ]
    }
   ],
   "source": [
    "import sys\n",
    "import numpy as np\n",
    "import igraph as ig\n",
    "\n",
    "\n",
    "F_BG = 0\n",
    "F_FG = 1\n",
    "F_PR_BG = 2\n",
    "F_PR_FG = 3\n",
    "\n",
    "gambar = np.array(\n",
    "[\n",
    "    [[159, 192, 201], [160, 193, 202], [162, 197, 207], [167, 203, 213], [166, 204, 216]],\n",
    "    [[159, 192, 201], [156, 192, 200], [159, 194, 204], [163, 201, 213], [162, 201, 215]],\n",
    "    [[156, 189, 198], [149, 185, 193], [150, 185, 195], [155, 193, 205], [157, 196, 210]],\n",
    "    [[163, 197, 203], [152, 188, 196], [149, 184, 194], [153, 189, 199], [152, 192, 204]],\n",
    "    [[150, 187, 191], [158, 195, 199], [160, 196, 202], [151, 189, 194], [145, 182, 190]],\n",
    "    [[154, 191, 195], [158, 195, 199], [158, 195, 199], [150, 188, 192], [146, 184, 189]],\n",
    "    [[151, 189, 194], [152, 190, 195], [149, 187, 192], [142, 182, 187], [142, 181, 189]],\n",
    "]\n",
    ")\n",
    "\n",
    "# gambar = np.array([\n",
    "#     [[255, 0, 0], [0, 255, 0], [0, 0, 255], [255, 255, 0], [255, 0, 255], [0, 255, 255], [128, 0, 0], [0, 128, 0], [0, 0, 128], [128, 128, 0], [128, 0, 128], [0, 128, 128]],\n",
    "#     [[255, 128, 0], [255, 255, 255], [128, 128, 128], [0, 0, 0], [255, 128, 128], [128, 255, 128], [128, 128, 255], [255, 255, 128], [255, 128, 255], [128, 255, 255], [192, 192, 192], [0, 128, 128]],\n",
    "#     [[128, 128, 0], [0, 128, 128], [128, 0, 128], [255, 128, 192], [192, 255, 128], [192, 128, 255], [255, 192, 128], [255, 192, 255], [192, 255, 192], [192, 192, 255], [255, 255, 192], [255, 192, 128]],\n",
    "#     [[128, 255, 255], [192, 192, 192], [0, 0, 0], [255, 0, 0], [0, 255, 0], [0, 0, 255], [255, 255, 0], [255, 0, 255], [0, 255, 255], [128, 0, 0], [0, 128, 0], [0, 0, 128]],\n",
    "#     [[128, 128, 0], [0, 128, 128], [128, 0, 128], [255, 128, 192], [192, 255, 128], [192, 128, 255], [255, 192, 128], [255, 192, 255], [192, 255, 192], [192, 192, 255], [255, 255, 192], [255, 192, 128]],\n",
    "#     [[255, 128, 0], [255, 255, 255], [128, 128, 128], [0, 0, 0], [255, 128, 128], [128, 255, 128], [128, 128, 255], [255, 255, 128], [255, 128, 255], [128, 255, 255], [192, 192, 192], [0, 128, 128]],\n",
    "#     [[128, 0, 0], [0, 128, 0], [0, 0, 128], [128, 128, 0], [0, 128, 128], [128, 0, 128], [255, 0, 0], [0, 255, 0], [0, 0, 255], [255, 255, 0], [255, 0, 255], [0, 255, 255]],\n",
    "#     [[128, 255, 255], [192, 192, 192], [0, 0, 0], [255, 0, 0], [0, 255, 0], [0, 0, 255], [255, 255, 0], [255, 0, 255], [0, 255, 255], [128, 0, 0], [0, 128, 0], [0, 0, 128]],\n",
    "#     [[255, 128, 0], [255, 255, 255], [128, 128, 128], [0, 0, 0], [255, 128, 128], [128, 255, 128], [128, 128, 255], [255, 255, 128], [255, 128, 255], [128, 255, 255], [192, 192, 192], [0, 128, 128]],\n",
    "#     [[128, 128, 0], [0, 128, 128], [128, 0, 128], [255, 128, 192], [192, 255, 128], [192, 128, 255], [255, 192, 128], [255, 192, 255], [192, 255, 192], [192, 192, 255], [255, 255, 192], [255, 192, 128]],\n",
    "#     [[128, 128, 0], [0, 128, 128], [128, 0, 128], [255, 128, 192], [192, 255, 128], [192, 128, 255], [255, 192, 128], [255, 192, 255], [192, 255, 192], [192, 192, 255], [255, 255, 192], [255, 192, 128]],\n",
    "#     [[128, 255, 255], [192, 192, 192], [0, 0, 0], [255, 0, 0], [0, 255, 0], [0, 0, 255], [255, 255, 0], [255, 0, 255], [0, 255, 255], [128, 0, 0], [0, 128, 0], [0, 0, 128]],\n",
    "#     [[128, 128, 0], [0, 128, 128], [128, 0, 128], [255, 128, 192], [192, 255, 128], [192, 128, 255], [255, 192, 128], [255, 192, 255], [192, 255, 192], [192, 192, 255], [255, 255, 192], [255, 192, 128]],\n",
    "#     [[255, 128, 0], [255, 255, 255], [128, 128, 128], [0, 0, 0], [255, 128, 128], [128, 255, 128], [128, 128, 255], [255, 255, 128], [255, 128, 255], [128, 255, 255], [192, 192, 192], [0, 128, 128]],\n",
    "#     [[128, 255, 255], [192, 192, 192], [0, 0, 0], [255, 0, 0], [0, 255, 0], [0, 0, 255], [255, 255, 0], [255, 0, 255], [0, 255, 255], [128, 0, 0], [0, 128, 0], [0, 0, 128]],\n",
    "#     [[255, 128, 0], [255, 255, 255], [128, 128, 128], [0, 0, 0], [255, 128, 128], [128, 255, 128], [128, 128, 255], [255, 255, 128], [255, 128, 255], [128, 255, 255], [192, 192, 192], [0, 128, 128]],\n",
    "#     [[128, 128, 0], [0, 128, 128], [128, 0, 128], [255, 128, 192], [192, 255, 128], [192, 128, 255], [255, 192, 128], [255, 192, 255], [192, 255, 192], [192, 192, 255], [255, 255, 192], [255, 192, 128]],\n",
    "#     [[128, 128, 0], [0, 128, 128], [128, 0, 128], [255, 128, 192], [192, 255, 128], [192, 128, 255], [255, 192, 128], [255, 192, 255], [192, 255, 192], [192, 192, 255], [255, 255, 192], [255, 192, 128]],\n",
    "# ], dtype=np.uint8)\n",
    "\n",
    "rows, cols, _= gambar.shape\n",
    "komponen_piksel = np.zeros((rows,cols), dtype=np.uint32)\n",
    "mask = np.zeros(gambar.shape[:2], dtype=np.uint8)\n",
    "mask[2:6, 1:4] = F_PR_FG\n",
    "\n",
    "gc_source = 0\n",
    "gc_sink = (cols * rows)\n",
    "\n",
    "print(gc_sink, gc_source)\n",
    "print('data gambar: ', gambar.shape)\n",
    "print('mask: \\n', mask)"
   ]
  },
  {
   "cell_type": "code",
   "execution_count": 58,
   "metadata": {},
   "outputs": [
    {
     "name": "stdout",
     "output_type": "stream",
     "text": [
      "TB count: 23, TF count: 0, TU count: 12\n",
      "\n",
      "\n",
      "[0.3668338496501147, 0.34611380195011177, 0.3671022476429483, 0.0709811311171561, 0.5830337330603428, 0.30799326977466923, 0.9911674979086648, 0.9974719603633545, 0.9365506790775111, 0.905168409079108, 0.3270102563116729, 0.20361943269202354]\n",
      "[0.407821214586925, 0.7897179980981682, 0.4243930729972548, 0.12063107318123023, 0.6003030933024176, 0.8753079074451359, 0.5904039731583341, 0.11799498861749758, 0.07449946877871383, 0.8970610248435118, 0.4444915569234956, 0.673253531968023]\n",
      "[(0, 0), (0, 1), (0, 2), (0, 3), (0, 4), (0, 5), (0, 6), (0, 7), (0, 8), (0, 9), (0, 10), (0, 14), (0, 15), (0, 19), (0, 20), (0, 24), (0, 25), (0, 29), (0, 30), (0, 31), (0, 32), (0, 33), (0, 34)]\n",
      "23\n",
      "[(0, 0), (0, 1), (0, 2), (0, 3), (0, 4), (0, 5), (0, 6), (0, 7), (0, 8), (0, 9), (0, 10), (0, 14), (0, 15), (0, 19), (0, 20), (0, 24), (0, 25), (0, 29), (0, 30), (0, 31), (0, 32), (0, 33), (0, 34), (0, 11), (0, 12), (0, 13), (0, 16), (0, 17), (0, 18), (0, 21), (0, 22), (0, 23), (0, 26), (0, 27), (0, 28)]\n",
      "35\n",
      "[(0, 0), (0, 1), (0, 2), (0, 3), (0, 4), (0, 5), (0, 6), (0, 7), (0, 8), (0, 9), (0, 10), (0, 14), (0, 15), (0, 19), (0, 20), (0, 24), (0, 25), (0, 29), (0, 30), (0, 31), (0, 32), (0, 33), (0, 34), (0, 11), (0, 12), (0, 13), (0, 16), (0, 17), (0, 18), (0, 21), (0, 22), (0, 23), (0, 26), (0, 27), (0, 28)]\n",
      "35\n",
      "[(0, 0), (0, 1), (0, 2), (0, 3), (0, 4), (0, 5), (0, 6), (0, 7), (0, 8), (0, 9), (0, 10), (0, 14), (0, 15), (0, 19), (0, 20), (0, 24), (0, 25), (0, 29), (0, 30), (0, 31), (0, 32), (0, 33), (0, 34), (0, 11), (0, 12), (0, 13), (0, 16), (0, 17), (0, 18), (0, 21), (0, 22), (0, 23), (0, 26), (0, 27), (0, 28), (35, 0), (35, 1), (35, 2), (35, 3), (35, 4), (35, 5), (35, 6), (35, 7), (35, 8), (35, 9), (35, 10), (35, 14), (35, 15), (35, 19), (35, 20), (35, 24), (35, 25), (35, 29), (35, 30), (35, 31), (35, 32), (35, 33), (35, 34)]\n",
      "58\n",
      "70\n",
      "[(0, 0), (0, 1), (0, 2), (0, 3), (0, 4), (0, 5), (0, 6), (0, 7), (0, 8), (0, 9), (0, 10), (0, 14), (0, 15), (0, 19), (0, 20), (0, 24), (0, 25), (0, 29), (0, 30), (0, 31), (0, 32), (0, 33), (0, 34), (0, 11), (0, 12), (0, 13), (0, 16), (0, 17), (0, 18), (0, 21), (0, 22), (0, 23), (0, 26), (0, 27), (0, 28), (35, 0), (35, 1), (35, 2), (35, 3), (35, 4), (35, 5), (35, 6), (35, 7), (35, 8), (35, 9), (35, 10), (35, 14), (35, 15), (35, 19), (35, 20), (35, 24), (35, 25), (35, 29), (35, 30), (35, 31), (35, 32), (35, 33), (35, 34), (35, 11), (35, 12), (35, 13), (35, 16), (35, 17), (35, 18), (35, 21), (35, 22), (35, 23), (35, 26), (35, 27), (35, 28)]\n",
      "70\n",
      "\n",
      "\n",
      "cap:  [29, 17, 18, 6, 7, 20, 16, 15, 20, 13, 17, 0, 17, 18, 5, 25, 11, 15, 26, 9, 30, 0, 13, 18, 23, 7, 20, 5, 1, 9, 27, 1, 25, 25, 1, 25, 8, 25, 23, 24, 9, 24, 15, 24, 2, 3, 15, 10, 3, 14, 13, 11, 26, 13, 3, 30, 13, 16, 21, 12, 19, 30, 30, 26, 3, 2, 10, 20, 1, 3]\n",
      "edges:  [(0, 0), (0, 1), (0, 2), (0, 3), (0, 4), (0, 5), (0, 6), (0, 7), (0, 8), (0, 9), (0, 10), (0, 14), (0, 15), (0, 19), (0, 20), (0, 24), (0, 25), (0, 29), (0, 30), (0, 31), (0, 32), (0, 33), (0, 34), (0, 11), (0, 12), (0, 13), (0, 16), (0, 17), (0, 18), (0, 21), (0, 22), (0, 23), (0, 26), (0, 27), (0, 28), (35, 0), (35, 1), (35, 2), (35, 3), (35, 4), (35, 5), (35, 6), (35, 7), (35, 8), (35, 9), (35, 10), (35, 14), (35, 15), (35, 19), (35, 20), (35, 24), (35, 25), (35, 29), (35, 30), (35, 31), (35, 32), (35, 33), (35, 34), (35, 11), (35, 12), (35, 13), (35, 16), (35, 17), (35, 18), (35, 21), (35, 22), (35, 23), (35, 26), (35, 27), (35, 28)]\n"
     ]
    }
   ],
   "source": [
    "import random\n",
    "\n",
    "pr_indexes = np.where(np.logical_or(mask.reshape(-1) == F_PR_BG, mask.reshape(-1) == F_PR_FG))\n",
    "bgd_indexes = np.where(mask.reshape(-1) == F_BG)\n",
    "fgd_indexes = np.where(mask.reshape(-1) == F_FG)\n",
    "\n",
    "print('TB count: %d, TF count: %d, TU count: %d' % (len(bgd_indexes[0]), len(fgd_indexes[0]), len(pr_indexes[0])))\n",
    "print(\"\\n\")\n",
    "\n",
    "edges = []\n",
    "# capacities = []\n",
    "\n",
    "U_count_fg = [random.uniform(0, 1) for _ in range(len(pr_indexes[0]))]\n",
    "U_count_bg = [random.uniform(0, 1) for _ in range(len(pr_indexes[0]))]\n",
    "\n",
    "print(U_count_fg)\n",
    "print(U_count_bg)\n",
    "\n",
    "edges.extend(list(zip([gc_source] * bgd_indexes[0].size, bgd_indexes[0])))\n",
    "# capacities.extend([0] * bgd_indexes[0].size)\n",
    "print(edges)\n",
    "print(len(edges))\n",
    "\n",
    "edges.extend(list(zip([gc_source] * pr_indexes[0].size, pr_indexes[0])))\n",
    "# capacities.extend(U_count_bg)\n",
    "\n",
    "print(edges)\n",
    "print(len(edges))\n",
    "\n",
    "edges.extend(list(zip([gc_source] * fgd_indexes[0].size, fgd_indexes[0])))\n",
    "# capacities.extend([9 * 50] * fgd_indexes[0].size)\n",
    "print(edges)\n",
    "print(len(edges))\n",
    "\n",
    "edges.extend(list(zip([gc_sink] * bgd_indexes[0].size, bgd_indexes[0])))\n",
    "# capacities.extend([9 * 50] * bgd_indexes[0].size)\n",
    "print(edges)\n",
    "print(len(edges))\n",
    "\n",
    "edges.extend(list(zip([gc_sink] * pr_indexes[0].size, pr_indexes[0])))\n",
    "# capacities.extend(U_count_fg)\n",
    "print(len(edges))\n",
    "\n",
    "edges.extend(list(zip([gc_sink] * fgd_indexes[0].size, fgd_indexes[0])))\n",
    "# capacities.extend([0] * fgd_indexes[0].size)\n",
    "print(edges)\n",
    "print(len(edges))\n",
    "\n",
    "print('\\n')\n",
    "\n",
    "capacities = [random.randint(0, 30) for _ in range(len(edges))]\n",
    "print('cap: ', capacities)\n",
    "\n",
    "print('edges: ',edges)\n"
   ]
  },
  {
   "cell_type": "code",
   "execution_count": 59,
   "metadata": {},
   "outputs": [
    {
     "name": "stdout",
     "output_type": "stream",
     "text": [
      "Information about edges:\n",
      "29\n"
     ]
    }
   ],
   "source": [
    "import random\n",
    "\n",
    "graph = ig.Graph(rows*cols + 1)\n",
    "graph.add_edges(edges)\n",
    "\n",
    "# Add edges dynamically, which will add vertices as needed\n",
    "\n",
    "graph.es['weight'] = np.zeros(len(edges))\n",
    "graph.es['weight'] = capacities\n",
    "\n",
    "# Displaying information about edges\n",
    "print(\"Information about edges:\")\n",
    "\n",
    "# for edge in graph.es:\n",
    "#     # print(edge.index)\n",
    "#     print(f\"Edge {edge.index}: Source = {edge.source}, Target = {edge.target}, Capacity = {edge['capacity']}\")\n",
    "\n",
    "print(graph.es['weight'][0])"
   ]
  },
  {
   "cell_type": "code",
   "execution_count": 60,
   "metadata": {},
   "outputs": [
    {
     "name": "stdout",
     "output_type": "stream",
     "text": [
      "0\n"
     ]
    }
   ],
   "source": [
    "node_a = graph.vs[0]\n",
    "n_nodes = graph.vcount()\n",
    "all_nodes = np.array(graph.vs)\n",
    "best_cut = []\n",
    "best_value = float('inf')\n",
    "cut_weight = int\n",
    "node_pq = []\n",
    "in_pq = []\n",
    "\n",
    "# for i in graph.vs:\n",
    "#     print(i)\n",
    "\n",
    "\n",
    "print(graph.vs[0].index)\n"
   ]
  },
  {
   "cell_type": "code",
   "execution_count": 65,
   "metadata": {},
   "outputs": [
    {
     "name": "stdout",
     "output_type": "stream",
     "text": [
      "1225\n"
     ]
    }
   ],
   "source": [
    "while (n_nodes >= 2):\n",
    "    # Phase 5 from paper\n",
    "    # Phase 6 from paper\n",
    "    for node in all_nodes:\n",
    "        if (node != node_a):\n",
    "            node_pq.append(0)\n",
    "            in_pq.append(True)\n",
    "    \n",
    "    n_nodes -= 1\n",
    "print(len(node_pq))"
   ]
  },
  {
   "cell_type": "code",
   "execution_count": 62,
   "metadata": {},
   "outputs": [],
   "source": [
    "# # Running the mincut algorithm\n",
    "# mincut = graph.st_mincut(gc_source, gc_sink, capacities)\n",
    "\n",
    "# print('foreground pixels: ', mincut.partition[0], \"len: \", len(mincut.partition[0]))\n",
    "# print('background pixels: ', mincut.partition[1], \"len: \", len(mincut.partition[1]))\n",
    "\n",
    "# idx_pr = np.where(np.logical_or(mask == F_PR_FG, mask == F_PR_BG))\n",
    "# print(idx_pr)\n",
    "\n",
    "# img_indexes = np.arange(rows * cols, dtype=np.uint32).reshape(rows, cols)\n",
    "# print('mask: \\n', mask)\n",
    "\n",
    "# mask[idx_pr] = np.where(np.isin(img_indexes[idx_pr], mincut.partition[0]),F_PR_FG, F_PR_BG)\n",
    "# idx_pr = np.where(np.logical_or(mask == F_PR_FG, mask == F_PR_BG))\n",
    "# print(len(idx_pr[0]))\n",
    "\n",
    "# mask = np.where((mask == F_FG) | (mask == F_PR_FG), 255, 0).astype('uint8')\n",
    "# print('mask: \\n', mask)\n"
   ]
  },
  {
   "cell_type": "code",
   "execution_count": null,
   "metadata": {},
   "outputs": [],
   "source": []
  },
  {
   "cell_type": "code",
   "execution_count": 63,
   "metadata": {},
   "outputs": [
    {
     "name": "stdout",
     "output_type": "stream",
     "text": [
      "Random Array: [62, 0, 1, 71, 75, 93, 54, 7, 45, 29]\n"
     ]
    }
   ],
   "source": [
    "import random\n",
    "\n",
    "# Specify the size of the array\n",
    "array_size = 10  # Change this to your desired size\n",
    "\n",
    "# Generate an array of unique random integers within a specified range\n",
    "random_array = random.sample(range(100), array_size)  # Change the range as needed\n",
    "\n",
    "# Print the random array\n",
    "print(\"Random Array:\", random_array)\n"
   ]
  }
 ],
 "metadata": {
  "kernelspec": {
   "display_name": "Python 3",
   "language": "python",
   "name": "python3"
  },
  "language_info": {
   "codemirror_mode": {
    "name": "ipython",
    "version": 3
   },
   "file_extension": ".py",
   "mimetype": "text/x-python",
   "name": "python",
   "nbconvert_exporter": "python",
   "pygments_lexer": "ipython3",
   "version": "3.9.6"
  }
 },
 "nbformat": 4,
 "nbformat_minor": 2
}
